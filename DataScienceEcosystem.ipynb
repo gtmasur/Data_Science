{
 "cells": [
  {
   "cell_type": "markdown",
   "id": "2d8384a0-6132-4440-9959-2c9a0b4fd371",
   "metadata": {},
   "source": [
    "# Data Science Tools and Ecosystem"
   ]
  },
  {
   "cell_type": "markdown",
   "id": "b1dd242b-a4e4-4e65-9f13-b323d65b91b7",
   "metadata": {},
   "source": [
    "In this notebook, Data Science Tools and Ecosystem are summarized."
   ]
  },
  {
   "cell_type": "markdown",
   "id": "f8d4842c-637a-4124-a845-07a7780fa553",
   "metadata": {},
   "source": [
    "Objectives: \n",
    "\n",
    "- Using markdown cells with different headings.\n",
    "- Making an ordered and unordered list.\n",
    "- Inserting a new cell in the previous cells."
   ]
  },
  {
   "cell_type": "markdown",
   "id": "d62a0f33-07e1-4d0d-baf0-3aae025c6c22",
   "metadata": {},
   "source": [
    "Some of the popular languages that Data Scientists use are:\n",
    "1. Python\n",
    "2. R\n",
    "3. SQL\n"
   ]
  },
  {
   "cell_type": "markdown",
   "id": "c62b4522-bc72-402a-bca8-ce29a21dce15",
   "metadata": {},
   "source": [
    "Some of the commonly used libraries used by Data Scientists include:\n",
    "\n",
    "1. Scientific Computing Libraries in Python\n",
    "2. Visualization Libraries in Python\n",
    "3. High-Level- Machine Learning and Deep Learning Libraries \n",
    "4. Deep Learning Libraries in Python\n",
    "5. Libraries used in other languages"
   ]
  },
  {
   "cell_type": "markdown",
   "id": "8c794beb-47e3-4881-a35a-9ea88d6c65bc",
   "metadata": {},
   "source": [
    "| Data Science Tools | \n",
    "| --- |\n",
    "| Apache Spark | \n",
    "| Apache Hadoop | \n",
    "|GitHub|\n",
    "|GitLab|"
   ]
  },
  {
   "cell_type": "markdown",
   "id": "01cb0b19-f183-4a51-9303-c98431fa3747",
   "metadata": {},
   "source": [
    "### Below are a few examples of evaluating arithmetic expressions in Python:\n",
    "\n"
   ]
  },
  {
   "cell_type": "code",
   "execution_count": 4,
   "id": "52f4cbe7-97e9-4d6b-b58b-8c4dfbeb66d9",
   "metadata": {},
   "outputs": [
    {
     "data": {
      "text/plain": [
       "17"
      ]
     },
     "execution_count": 4,
     "metadata": {},
     "output_type": "execute_result"
    }
   ],
   "source": [
    "# This a simple arithmetic expression to mutiply then add integers\n",
    "(3*4)+5"
   ]
  },
  {
   "cell_type": "code",
   "execution_count": 5,
   "id": "e4fbdb13-b7ae-49ec-84e1-130e12a4f2aa",
   "metadata": {},
   "outputs": [
    {
     "data": {
      "text/plain": [
       "3.3333333333333335"
      ]
     },
     "execution_count": 5,
     "metadata": {},
     "output_type": "execute_result"
    }
   ],
   "source": [
    "# This will convert 200 minutes to hours by diving by 60.\n",
    "200/60"
   ]
  },
  {
   "cell_type": "markdown",
   "id": "6356dbf5-8463-4cde-abf3-b45f95429483",
   "metadata": {},
   "source": [
    "## Author\n",
    "Gökce Tuba Masur"
   ]
  },
  {
   "cell_type": "code",
   "execution_count": null,
   "id": "3e9e7eb6-8d96-4029-87c8-2d08c5272df0",
   "metadata": {},
   "outputs": [],
   "source": []
  }
 ],
 "metadata": {
  "kernelspec": {
   "display_name": "Python 3 (ipykernel)",
   "language": "python",
   "name": "python3"
  },
  "language_info": {
   "codemirror_mode": {
    "name": "ipython",
    "version": 3
   },
   "file_extension": ".py",
   "mimetype": "text/x-python",
   "name": "python",
   "nbconvert_exporter": "python",
   "pygments_lexer": "ipython3",
   "version": "3.12.3"
  }
 },
 "nbformat": 4,
 "nbformat_minor": 5
}
